{
 "cells": [
  {
   "cell_type": "code",
   "execution_count": 10,
   "metadata": {},
   "outputs": [],
   "source": [
    "import tkinter as tk\n",
    "import random as rd\n",
    "\n",
    "couleurs = [\"white\", \"black\", \"red\", \"green\", \"blue\", \"cyan\", \"yellow\"]\n",
    "couleur_fond = rd.choice(couleurs)\n",
    "couleurs.remove(couleur_fond) # supprime la couleur choisi aléatoirement pour le fond\n",
    "couleur_texte = rd.choice(couleurs)\n",
    "\n",
    "racine = tk.Tk() # Création de la fenêtre racine\n",
    "racine.title(\"Titre\") # ajoute un titre\n",
    "\n",
    "label = tk.Label(racine, text=\"Texte\", font=(\"helvetica\", \"20\")) # affichage de texte\n",
    "label.grid(row= 0, column= 0, columnspan=2, padx= 10) # positionnement du widget : je choisi (padx : pixel, columnspan : couvrir des grilles)\n",
    "label.config(text=\"autre texte\", bg=\"blue\") # modification des paramètres du widget\n",
    "\n",
    "# label.pack(row= 0, column= 0) # positionnement du widget : aléatoirement\n",
    "\n",
    "label_dev = tk.Label(racine, bg=couleur_fond, fg=couleur_texte, # bg : fond, fg= text\n",
    "                 text=\"couleur texte: \" + couleur_texte + \"\\ncouleur fond: \" + couleur_fond,\n",
    "                 padx=20, pady=20, borderwidth=5, relief=\"groove\",\n",
    "                 font = (\"helvetica\", \"30\") \n",
    "                )\n",
    "label_dev.grid(row= 2, column= 2)\n",
    "\n",
    "racine.mainloop() # Lancement de la boucle principale"
   ]
  },
  {
   "cell_type": "code",
   "execution_count": null,
   "metadata": {},
   "outputs": [],
   "source": [
    "import tkinter as tk\n",
    "\n",
    "HEIGHT = 500\n",
    "WIDTH = 500\n",
    "\n",
    "racine = tk.Tk()\n",
    "canvas = tk.Canvas(racine, bg=\"red\", height=HEIGHT, width=WIDTH)\n",
    "canvas.grid(row= 1, column= 1)\n",
    "ligne = canvas.create_line((50, 50), (100, 100), fill=\"orange\", width=5)\n",
    "oval = canvas.create_oval((300, 300), (400, 400), fill=\"blue\", width=5, outline=\"cyan\")\n",
    "rectangle = canvas.create_rectangle((100, 100), (300, 300))\n",
    "\n",
    "canvas.move(oval, 50, 50) # méthode qui déplace l'objet\n",
    "\n",
    "racine.mainloop()"
   ]
  },
  {
   "cell_type": "code",
   "execution_count": null,
   "metadata": {},
   "outputs": [],
   "source": [
    "import tkinter as tk\n",
    "\n",
    "def affichage():\n",
    "    \"\"\" Modifie le texte d'un label. \"\"\"\n",
    "    global cpt\n",
    "    cpt += 1\n",
    "    label_bouton.config(text=\"tu as cliqué \" + str(cpt) + \" fois\")\n",
    "\n",
    "cpt = 0\n",
    "\n",
    "racine = tk.Tk()\n",
    "label_bouton = tk.Label(racine, text=\"txt av de cliquer bouton\",\n",
    "                  padx=20, pady=20, font = (\"helvetica\", \"30\") \n",
    "                )\n",
    "label_bouton.grid(row=4, column=0)\n",
    "bouton = tk.Button(racine, text=\"bouton cliquer\", \n",
    "                    command=affichage, font = (\"helvetica\", \"30\") \n",
    "                  ) # création du widget\n",
    "bouton.grid(row=5, column=1)\n",
    "\n",
    "racine.mainloop()"
   ]
  },
  {
   "cell_type": "code",
   "execution_count": 5,
   "metadata": {},
   "outputs": [],
   "source": [
    "import tkinter as tk\n",
    "\n",
    "def affichage(texte):\n",
    "    \"\"\" Modifie le texte d'un label. \"\"\"\n",
    "    label.config(text=texte)\n",
    "\n",
    "racine = tk.Tk()\n",
    "label = tk.Label(racine, text=\"\", padx=20, pady=20, font = (\"helvetica\", \"30\"))\n",
    "label.grid(row=0, column=0, columnspan=2)\n",
    "bouton1 = tk.Button(racine, text=\"affichage 1\", command=lambda : affichage(\"ils sont fous ces romains\"),\n",
    "                     font = (\"helvetica\", \"30\")\n",
    "                   ) \n",
    "bouton1.grid(row=1, column=0) \n",
    "bouton2 = tk.Button(racine, text=\"affichage 2\", \n",
    "                    command=lambda : affichage(\"quand lama faché, lui toujours faire ainsi\"),\n",
    "                    font = (\"helvetica\", \"30\") \n",
    "                   )\n",
    "bouton2.grid(row=1, column=1)\n",
    "\n",
    "racine.mainloop()"
   ]
  },
  {
   "cell_type": "code",
   "execution_count": null,
   "metadata": {},
   "outputs": [],
   "source": []
  }
 ],
 "metadata": {
  "kernelspec": {
   "display_name": "base",
   "language": "python",
   "name": "python3"
  },
  "language_info": {
   "codemirror_mode": {
    "name": "ipython",
    "version": 3
   },
   "file_extension": ".py",
   "mimetype": "text/x-python",
   "name": "python",
   "nbconvert_exporter": "python",
   "pygments_lexer": "ipython3",
   "version": "3.12.3"
  }
 },
 "nbformat": 4,
 "nbformat_minor": 2
}
