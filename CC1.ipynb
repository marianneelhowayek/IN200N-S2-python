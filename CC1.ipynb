{
 "cells": [
  {
   "cell_type": "code",
   "execution_count": null,
   "metadata": {},
   "outputs": [],
   "source": [
    "tab = [-2, 4, 5, 6, -5]\n",
    "\n",
    "max = tab[0]\n",
    "for i in tab:\n",
    "    if max > i and i > 0:\n",
    "        max = i\n",
    "        print(max)\n",
    "    else:\n",
    "        print(\"pas de valeur positive\")"
   ]
  },
  {
   "cell_type": "code",
   "execution_count": null,
   "metadata": {},
   "outputs": [],
   "source": [
    "tab = [-2, 4, 5, 6, -5]\n",
    "\n",
    "max = tab[0]\n",
    "for i in tab:\n",
    "    if i > 0:\n",
    "        max = i\n",
    "if tab == 0:\n",
    "    print(\"pas de valeur positive\")\n",
    "else:\n",
    "    print(tab)"
   ]
  }
 ],
 "metadata": {
  "language_info": {
   "name": "python"
  }
 },
 "nbformat": 4,
 "nbformat_minor": 2
}
