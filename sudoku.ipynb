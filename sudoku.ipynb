{
 "cells": [
  {
   "cell_type": "code",
   "execution_count": 6,
   "metadata": {},
   "outputs": [],
   "source": [
    "import tkinter as tk\n",
    "\n",
    "racine = tk.Tk()\n",
    "\n",
    "canvas = tk.Canvas(racine, bg=\"red\", height=500, width=500)\n",
    "canvas.grid()\n",
    "\n",
    "rect_width = 40\n",
    "rect_height = 40\n",
    "spacing = 5\n",
    "\n",
    "rectangles = []\n",
    "for row in range(9):\n",
    "    for col in range(9):\n",
    "        for case in range(9):\n",
    "            x1 = 50 + col * (rect_width + spacing)\n",
    "            y1 = 50 + row * (rect_height + spacing)\n",
    "            x2 = x1 + rect_width\n",
    "            y2 = y1 + rect_height\n",
    "            rect = canvas.create_rectangle(x1, y1, x2, y2, fill=\"white\")\n",
    "            line = canvas.create_line(x1, y1, x2, y2, fill=\"black\")\n",
    "            rectangles.append(rect)\n",
    "\n",
    "racine.mainloop()"
   ]
  },
  {
   "cell_type": "code",
   "execution_count": null,
   "metadata": {},
   "outputs": [],
   "source": [
    "import tkinter as tk\n",
    "\n",
    "# Constants for the grid\n",
    "GRID_SIZE = 9\n",
    "CELL_SIZE = 50  # Size of each cell\n",
    "BOARD_SIZE = GRID_SIZE * CELL_SIZE\n",
    "\n",
    "# Create main window\n",
    "racine = tk.Tk()\n",
    "racine.title(\"Sudoku Grid\")\n",
    "\n",
    "# Create Canvas\n",
    "canvas = tk.Canvas(racine, width=BOARD_SIZE, height=BOARD_SIZE, bg=\"white\")\n",
    "canvas.grid()\n",
    "\n",
    "# Draw the Sudoku grid\n",
    "for row in range(GRID_SIZE + 1):\n",
    "    width = 3 if row % 3 == 0 else 1  # Thicker lines for 3×3 subgrids\n",
    "    canvas.create_line(0, row * CELL_SIZE, BOARD_SIZE, row * CELL_SIZE, width=width)\n",
    "\n",
    "for col in range(GRID_SIZE + 1):\n",
    "    width = 3 if col % 3 == 0 else 1\n",
    "    canvas.create_line(col * CELL_SIZE, 0, col * CELL_SIZE, BOARD_SIZE, width=width)\n",
    "\n",
    "racine.mainloop()\n"
   ]
  },
  {
   "cell_type": "code",
   "execution_count": null,
   "metadata": {},
   "outputs": [],
   "source": []
  }
 ],
 "metadata": {
  "kernelspec": {
   "display_name": "base",
   "language": "python",
   "name": "python3"
  },
  "language_info": {
   "codemirror_mode": {
    "name": "ipython",
    "version": 3
   },
   "file_extension": ".py",
   "mimetype": "text/x-python",
   "name": "python",
   "nbconvert_exporter": "python",
   "pygments_lexer": "ipython3",
   "version": "3.12.3"
  }
 },
 "nbformat": 4,
 "nbformat_minor": 2
}
