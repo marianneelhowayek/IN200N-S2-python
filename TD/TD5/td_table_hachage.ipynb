{
 "cells": [
  {
   "cell_type": "markdown",
   "metadata": {
    "deletable": false,
    "editable": false,
    "run_control": {
     "frozen": true
    }
   },
   "source": [
    "# TD : Tables de hachage"
   ]
  },
  {
   "cell_type": "markdown",
   "metadata": {
    "deletable": false,
    "editable": false,
    "run_control": {
     "frozen": true
    }
   },
   "source": [
    "## Exercice 1 : Opérations de base dans une 1ère table de hachage "
   ]
  },
  {
   "cell_type": "markdown",
   "metadata": {
    "deletable": false,
    "editable": false,
    "run_control": {
     "frozen": true
    }
   },
   "source": [
    "On utilise comme table de hachage un tableau de 10 cases où la case d'indice `i` contient l'ensemble des nombres terminant par le chiffre `i`."
   ]
  },
  {
   "cell_type": "markdown",
   "metadata": {
    "deletable": false,
    "editable": false,
    "run_control": {
     "frozen": true
    }
   },
   "source": [
    "### Question 1  :  La recherche\n",
    "\n",
    "- Définir une fonction `rechercher` qui prend en paramètre une table de hachage et un entier et renvoie `True` si l'entier est dans la table, et `False` sinon. "
   ]
  },
  {
   "cell_type": "code",
   "execution_count": null,
   "metadata": {
    "tags": [
     "answer"
    ]
   },
   "outputs": [
    {
     "name": "stdout",
     "output_type": "stream",
     "text": [
      "True\n",
      "False\n"
     ]
    }
   ],
   "source": [
    "def rechercher(L, n):\n",
    "    if n >= 0 and n in L[n % 10]:\n",
    "        return True\n",
    "    elif n < 0 and n in L[-n % 10]:\n",
    "        return True\n",
    "    else:\n",
    "        return False\n",
    "\n",
    "L = [[0, 10, 20, 30, 40],\n",
    "     [1, 11, 21, 31, 41],\n",
    "     [2, 12, 22, 32, 42],\n",
    "     [3, 13, 23, 33, 43],\n",
    "     [4, 14, 24, 34, 44],\n",
    "     [5, 15, 25, 35, 45],\n",
    "     [6, 16, 26, 36, 46],\n",
    "     [7, 17, 27, 37, 47],\n",
    "     [8, 18, 28, 38, 48],\n",
    "     [9, 19, 29, 39, 49]]\n",
    "print(rechercher(L, 24))\n",
    "print(rechercher(L, 64))"
   ]
  },
  {
   "cell_type": "code",
   "execution_count": null,
   "id": "c32fbba4",
   "metadata": {},
   "outputs": [
    {
     "data": {
      "text/plain": [
       "False"
      ]
     },
     "execution_count": 23,
     "metadata": {},
     "output_type": "execute_result"
    }
   ],
   "source": [
    "def rechercherCorr(L, n):\n",
    "    if n >= 0:\n",
    "        nb = n % 10\n",
    "    elif n < 0:\n",
    "        nb = -n % 10\n",
    "    for i in range(len(L[nb])):\n",
    "        if L[nb][i] == n:\n",
    "            return True\n",
    "    return False\n",
    "\n",
    "L = [[0, 10, 20, 30, 40],\n",
    "     [1, 11, 21, 31, 41],\n",
    "     [2, 12, 22, 32, 42],\n",
    "     [3, 13, 23, 33, 43],\n",
    "     [4, 14, 24, 34, 44],\n",
    "     [5, 15, 25, 35, 45],\n",
    "     [6, 16, 26, 36, 46],\n",
    "     [7, 17, 27, 37, 47],\n",
    "     [8, 18, 28, 38, 48],\n",
    "     [9, 19, 29, 39, 49]]\n",
    "print(rechercherCorr(L, 24))\n",
    "print(rechercherCorr(L, 64))"
   ]
  },
  {
   "cell_type": "markdown",
   "metadata": {
    "deletable": false,
    "editable": false,
    "run_control": {
     "frozen": true
    }
   },
   "source": [
    "### Question 2 : L'ajout  \n",
    "\n",
    "- Définir une fonction `ajouter` qui prend en paramètre une table de hachage et un entier et ajoute cet entier dans la table s'il n'existe pas. "
   ]
  },
  {
   "cell_type": "code",
   "execution_count": null,
   "metadata": {
    "tags": [
     "answer"
    ]
   },
   "outputs": [
    {
     "name": "stdout",
     "output_type": "stream",
     "text": [
      "[[0, 10, 20, 30, 40], [1, 11, 21, 31, 41], [2, 12, 22, 32, 42], [3, 13, 23, 33, 43], [4, 14, 24, 34, 44], [5, 15, 25, 35, 45], [6, 16, 26, 36, 46], [7, 17, 27, 37, 47], [8, 18, 28, 38, 48], [9, 19, 29, 39, 49]]\n",
      "[[0, 10, 20, 30, 40], [1, 11, 21, 31, 41], [2, 12, 22, 32, 42], [3, 13, 23, 33, 43], [4, 14, 24, 34, 44, -64], [5, 15, 25, 35, 45], [6, 16, 26, 36, 46], [7, 17, 27, 37, 47], [8, 18, 28, 38, 48], [9, 19, 29, 39, 49]]\n"
     ]
    }
   ],
   "source": [
    "def ajouter(L, n):\n",
    "    if n > 0 and n not in L[n % 10]:\n",
    "        L[n % 10].append(n)\n",
    "    elif n < 0 and n not in L[-n % 10]:\n",
    "        L[-n % 10].append(n)\n",
    "    return L\n",
    "\n",
    "L = [[0, 10, 20, 30, 40],\n",
    "     [1, 11, 21, 31, 41],\n",
    "     [2, 12, 22, 32, 42],\n",
    "     [3, 13, 23, 33, 43],\n",
    "     [4, 14, 24, 34, 44],\n",
    "     [5, 15, 25, 35, 45],\n",
    "     [6, 16, 26, 36, 46],\n",
    "     [7, 17, 27, 37, 47],\n",
    "     [8, 18, 28, 38, 48],\n",
    "     [9, 19, 29, 39, 49]]\n",
    "print(ajouter(L, 24))\n",
    "print(ajouter(L, 64))"
   ]
  },
  {
   "cell_type": "code",
   "execution_count": 36,
   "id": "ecd6d2ef",
   "metadata": {},
   "outputs": [
    {
     "name": "stdout",
     "output_type": "stream",
     "text": [
      "[[0, 10, 20, 30, 40], [1, 11, 21, 31, 41], [2, 12, 22, 32, 42], [3, 13, 23, 33, 43], [4, 14, 24, 34, 44], [5, 15, 25, 35, 45], [6, 16, 26, 36, 46], [7, 17, 27, 37, 47], [8, 18, 28, 38, 48], [9, 19, 29, 39, 49]]\n",
      "[[0, 10, 20, 30, 40], [1, 11, 21, 31, 41], [2, 12, 22, 32, 42], [3, 13, 23, 33, 43], [4, 14, 24, 34, 44, 64], [5, 15, 25, 35, 45], [6, 16, 26, 36, 46], [7, 17, 27, 37, 47], [8, 18, 28, 38, 48], [9, 19, 29, 39, 49]]\n"
     ]
    }
   ],
   "source": [
    "def ajouterCorr(L, n):\n",
    "    if not rechercher(L, n):\n",
    "        if n < 0:\n",
    "            a = -n % 10\n",
    "        else:\n",
    "            a = n % 10\n",
    "        \n",
    "        L[a].append(n)\n",
    "    return L\n",
    "\n",
    "L = [[0, 10, 20, 30, 40],\n",
    "     [1, 11, 21, 31, 41],\n",
    "     [2, 12, 22, 32, 42],\n",
    "     [3, 13, 23, 33, 43],\n",
    "     [4, 14, 24, 34, 44],\n",
    "     [5, 15, 25, 35, 45],\n",
    "     [6, 16, 26, 36, 46],\n",
    "     [7, 17, 27, 37, 47],\n",
    "     [8, 18, 28, 38, 48],\n",
    "     [9, 19, 29, 39, 49]]\n",
    "print(ajouterCorr(L, 24))\n",
    "print(ajouterCorr(L, 64))"
   ]
  },
  {
   "cell_type": "markdown",
   "metadata": {
    "deletable": false,
    "editable": false,
    "run_control": {
     "frozen": true
    }
   },
   "source": [
    "### Question  3  : La suppression\n",
    "\n",
    "- Définir une fonction `supprimer` qui prend en paramètre une table de hachage et un entier et supprime cet entier dans la table s'il est présent.\n",
    "\n",
    "**Remarque :** On utilisera la fonction `L.pop()` qui supprime le dernier élément de la table `L`."
   ]
  },
  {
   "cell_type": "code",
   "execution_count": null,
   "metadata": {
    "tags": [
     "answer"
    ]
   },
   "outputs": [
    {
     "name": "stdout",
     "output_type": "stream",
     "text": [
      "[[0, 10, 20, 30, 40], [1, 11, 21, 31, 41], [2, 12, 22, 32, 42], [3, 13, 23, 33, 43], [4, 14, 24, 34], [5, 15, 25, 35, 45], [6, 16, 26, 36, 46], [7, 17, 27, 37, 47], [8, 18, 28, 38, 48], [9, 19, 29, 39, 49]]\n",
      "[[0, 10, 20, 30, 40], [1, 11, 21, 31, 41], [2, 12, 22, 32, 42], [3, 13, 23, 33, 43], [4, 14, 24, 34], [5, 15, 25, 35, 45], [6, 16, 26, 36, 46], [7, 17, 27, 37, 47], [8, 18, 28, 38, 48], [9, 19, 29, 39, 49]]\n"
     ]
    }
   ],
   "source": [
    "def suprrimer(L, n):\n",
    "    if n > 0 and n in L[n % 10]:\n",
    "        for j in range(n, len(L[n % 10]) - 1):\n",
    "            L[n % 10][j] = L[n % 10][j + 1]\n",
    "        L[n % 10].pop()\n",
    "    elif n < 0 and n in L[-n % 10]:\n",
    "        for j in range(n, len(L[-n % 10]) - 1):\n",
    "            L[-n % 10][j] = L[-n % 10][j + 1]\n",
    "        L[-n % 10].pop()\n",
    "    return L\n",
    "\n",
    "L = [[0, 10, 20, 30, 40],\n",
    "     [1, 11, 21, 31, 41],\n",
    "     [2, 12, 22, 32, 42],\n",
    "     [3, 13, 23, 33, 43],\n",
    "     [4, 14, 24, 34, 44],\n",
    "     [5, 15, 25, 35, 45],\n",
    "     [6, 16, 26, 36, 46],\n",
    "     [7, 17, 27, 37, 47],\n",
    "     [8, 18, 28, 38, 48],\n",
    "     [9, 19, 29, 39, 49]]\n",
    "print(suprrimer(L, 24))\n",
    "print(suprrimer(L, 64))"
   ]
  },
  {
   "cell_type": "code",
   "execution_count": 40,
   "id": "86f14eeb",
   "metadata": {},
   "outputs": [
    {
     "name": "stdout",
     "output_type": "stream",
     "text": [
      "[[0, 10, 20, 30, 40], [1, 11, 21, 31, 41], [2, 12, 22, 32, 42], [3, 13, 23, 33, 43], [4, 14, 24, 34], [5, 15, 25, 35, 45], [6, 16, 26, 36, 46], [7, 17, 27, 37, 47], [8, 18, 28, 38, 48], [9, 19, 29, 39, 49]]\n"
     ]
    }
   ],
   "source": [
    "def suppressionCorr(L, n):\n",
    "    if n >= 0:\n",
    "        nb = n % 10\n",
    "    elif n < 0:\n",
    "        nb = -n % 10\n",
    "    if rechercher(L, n) == False:\n",
    "        return L\n",
    "    for i in range(len(L[nb])):\n",
    "        if L[nb][i] == n:\n",
    "            L[nb][i] == L[nb][len(L[nb]) - 1]\n",
    "    L[nb].pop()\n",
    "    return L\n",
    "\n",
    "L = [[0, 10, 20, 30, 40],\n",
    "     [1, 11, 21, 31, 41],\n",
    "     [2, 12, 22, 32, 42],\n",
    "     [3, 13, 23, 33, 43],\n",
    "     [4, 14, 24, 34, 44],\n",
    "     [5, 15, 25, 35, 45],\n",
    "     [6, 16, 26, 36, 46],\n",
    "     [7, 17, 27, 37, 47],\n",
    "     [8, 18, 28, 38, 48],\n",
    "     [9, 19, 29, 39, 49]]\n",
    "print(suppressionCorr(L, 24))\n",
    "# print(suppressionCorr(L, 64))"
   ]
  },
  {
   "cell_type": "markdown",
   "metadata": {
    "deletable": false,
    "editable": false,
    "run_control": {
     "frozen": true
    }
   },
   "source": [
    "## Exercice 2 : Opérations de base dans une 2ème table de hachage "
   ]
  },
  {
   "cell_type": "markdown",
   "metadata": {
    "deletable": false,
    "editable": false,
    "run_control": {
     "frozen": true
    }
   },
   "source": [
    "### Question 1 : La recherche \n",
    "\n",
    "- Définir une fonction `rechercher2` qui prend en paramètre une table de hachage et une valeur et renvoie `True` si la valeur est dans la table, et `False` sinon. On ne fait pas d'hypothèse sur le nombre de cases de la table. La fonction de hachage est celle définie en cours.\n",
    "\n",
    "**Remarque :** Si la valeur que l'on veut stocker dans la table est entière, il suffit de transformer l'entier en une chaîne de caractères avec `str(entier)`."
   ]
  },
  {
   "cell_type": "code",
   "execution_count": null,
   "metadata": {
    "tags": [
     "removeFromLatex"
    ]
   },
   "outputs": [],
   "source": [
    "# Fonction de hachage définie en cours\n",
    "\n",
    "def hachage(str):\n",
    "    nombre = 0\n",
    "    i = 0\n",
    "    while i < len(str):\n",
    "        nombre += ord(str[i])\n",
    "        i += 1\n",
    "    return nombre"
   ]
  },
  {
   "cell_type": "code",
   "execution_count": null,
   "metadata": {
    "tags": [
     "answer"
    ]
   },
   "outputs": [],
   "source": [
    "def rechercher2(L, n):\n",
    "    m = abs(n)\n",
    "    if n in L[n % len(L)]:\n",
    "        return True\n",
    "    return False\n",
    "\n",
    "L = [[0, 10, 20, 30, 40],\n",
    "     [1, 11, 21, 31, 41],\n",
    "     [2, 12, 22, 32, 42],\n",
    "     [3, 13, 23, 33, 43],\n",
    "     [4, 14, 24, 34, 44],\n",
    "     [5, 15, 25, 35, 45],\n",
    "     [6, 16, 26, 36, 46],\n",
    "     [7, 17, 27, 37, 47],\n",
    "     [8, 18, 28, 38, 48],\n",
    "     [9, 19, 29, 39, 49]]\n",
    "print(rechercherCorr(L, 24))\n",
    "print(rechercherCorr(L, 64))\n",
    "\n",
    "indice = hachage % len(L)"
   ]
  },
  {
   "cell_type": "markdown",
   "metadata": {
    "deletable": false,
    "editable": false,
    "run_control": {
     "frozen": true
    }
   },
   "source": [
    "### Question 2 : L'ajout \n",
    "\n",
    "- Définir une fonction `ajouter2` qui prend en paramètre une table de hachage et une valeur et ajoute cette valeur dans la table si elle n'existe pas.  On ne fait pas d'hypothèse sur le nombre de cases de la table. La fonction de hachage est celle définie en cours."
   ]
  },
  {
   "cell_type": "code",
   "execution_count": null,
   "metadata": {
    "tags": [
     "answer"
    ]
   },
   "outputs": [],
   "source": [
    "############################## \n",
    "#   Saisir votre code ici.   #\n",
    "##############################\n",
    "\n",
    "\n"
   ]
  },
  {
   "cell_type": "markdown",
   "metadata": {
    "deletable": false,
    "editable": false,
    "run_control": {
     "frozen": true
    }
   },
   "source": [
    "### Question 3 : La suppression  \n",
    "- Définir une fonction `supprimer2` qui prend en paramètre une table de hachage et un entier et supprime cet entier dans la table s'il existe. \n",
    "\n",
    "On ne fait pas d'hypothèse sur le nombre de cases de la table. La fonction de hachage est celle définie en cours.\n",
    "\n",
    "**Remarque :** on utilisera la fonction `L.pop()` qui supprime le dernier élément de la table `L`."
   ]
  },
  {
   "cell_type": "code",
   "execution_count": null,
   "metadata": {
    "tags": [
     "answer"
    ]
   },
   "outputs": [],
   "source": [
    "############################## \n",
    "#   Saisir votre code ici.   #\n",
    "##############################\n",
    "\n",
    "\n"
   ]
  },
  {
   "cell_type": "markdown",
   "metadata": {
    "deletable": false,
    "editable": false,
    "run_control": {
     "frozen": true
    }
   },
   "source": [
    "## Exercice 3 : Hachage fermé (ou à adressage ouvert)\n",
    "\n",
    "\n",
    "Dans cet exercice, on suppose que l'on stocke dans les cases de la table de hachage des valeurs et non des tableaux de valeurs (on peut donc mettre au plus une valeur dans chaque case de la table). Il faut alors une méthode pour gérer les *collisions* (cas où plusieurs éléments à stocker ont la même valeur de hachage).\n",
    "\n",
    "Lorque l'on essaie d'insérer un nouvel est élément et que la case où on veut le mettre est déjà occupée, il faut essayer de le placer dans une autre case, et ainsi de suite jusqu'à en trouver une libre. On dit alors que l'on *sonde* la table pour trouver une case libre. Dans ces conditions, la fonction de hachage prend un argument supplémentaire qui compte le nombre de tentatives infructueuses pour trouver une case libre.\n",
    "\n",
    "### Question 1 : Sondage linéaire \n",
    "\n",
    "Dans le cas du *sondage linéaire*, on avance dans le tableau d'un nombre fixe de cases (souvent une case) à chaque fois jusqu'à trouver une case vide. Si le pas est un, la fonction de hachage s'écrit $h(k,i)= h_1(k)+i$ où $h_1$ est un fonction de hachage simple et $i$ est le nombre de tentatives pour trouver une case vide.\n",
    "\n",
    "- Éxécuter à la main l'algorithme d'insertion dans une table de taille `m=9` des  valeurs 5, 28, 19, 15, 20, 33, 12, 17 en utilsant la fonction $h_1(k)=k \\mod 9$.\n",
    "- Écrire les fonctions permettant d'insérer et de rechercher une valeur dans une table de hachage de taille `m` avec la fonction de hachage à sondage linéaire qui vient d'être décrite. \n",
    "- Que se passe-t-il si l'on supprime des valeurs dans la table ? Comment peut-on résoudre ce problème ?"
   ]
  },
  {
   "cell_type": "markdown",
   "metadata": {
    "deletable": false,
    "run_control": {
     "frozen": false
    },
    "tags": [
     "answer"
    ]
   },
   "source": [
    "**Réponse :** Écrire votre réponse ici.\n",
    "\n",
    "\n"
   ]
  },
  {
   "cell_type": "code",
   "execution_count": null,
   "metadata": {
    "tags": [
     "answer"
    ]
   },
   "outputs": [],
   "source": [
    "############################## \n",
    "#   Saisir votre code ici.   #\n",
    "##############################\n",
    "\n",
    "\n"
   ]
  },
  {
   "cell_type": "markdown",
   "metadata": {
    "deletable": false,
    "run_control": {
     "frozen": false
    },
    "tags": [
     "answer"
    ]
   },
   "source": [
    "**Réponse :** Écrire votre réponse ici.\n",
    "\n",
    "\n"
   ]
  },
  {
   "cell_type": "markdown",
   "metadata": {
    "deletable": false,
    "editable": false,
    "run_control": {
     "frozen": true
    }
   },
   "source": [
    "### Question 2 : Double hachage\n",
    "\n",
    "Le sondage linéaire présente un gros inconvénient. Même si la fonction de hachage répartit les clés uniformément dans la table, la résolution des collisions a tendance à former des \"paquets\" de valeurs ce qui conduit à rapidement augmenter le nombre de recherches infructueuses.\n",
    "\n",
    "Une solution pour résoudre le problème des \"paquets\" est de modifier la méthode de sondage pour que les cases sondées soient éloignées de manière variable. Le double hachage est l'une des meilleurs méthodes connues pour cela. Il utilise une fonction de hachage de la forme $h(k,i)=h_1(k)+ih_2(k) \\mod m$ où $h_1$  et $h_2$ sont des  fonctions de hachage auxiliaires simples.\n",
    "\n",
    "- Insérer les valeurs de la Question 1 dans une table de taille $m=13$ en utilisant un double hachage où $h_1(k)= k \\mod 13$ et $h_2(k)=1+ (k \\mod 12).$ \n",
    "- Que se passe-t-il si $h_2(k)$ et $m$ ne sont pas premiers entre eux ? En quoi est-ce gênant ?  Comment y remédier ? "
   ]
  },
  {
   "cell_type": "markdown",
   "metadata": {
    "deletable": false,
    "run_control": {
     "frozen": false
    },
    "tags": [
     "answer"
    ]
   },
   "source": [
    "**Réponse :** Écrire votre réponse ici.\n",
    "\n",
    "\n"
   ]
  }
 ],
 "metadata": {
  "celltoolbar": "Éditer les Méta-Données",
  "kernelspec": {
   "display_name": "base",
   "language": "python",
   "name": "python3"
  },
  "language_info": {
   "codemirror_mode": {
    "name": "ipython",
    "version": 3
   },
   "file_extension": ".py",
   "mimetype": "text/x-python",
   "name": "python",
   "nbconvert_exporter": "python",
   "pygments_lexer": "ipython3",
   "version": "3.12.4"
  },
  "toc": {
   "base_numbering": 1,
   "nav_menu": {},
   "number_sections": false,
   "sideBar": false,
   "skip_h1_title": false,
   "title_cell": "Table of Contents",
   "title_sidebar": "Contents",
   "toc_cell": false,
   "toc_position": {},
   "toc_section_display": false,
   "toc_window_display": false
  }
 },
 "nbformat": 4,
 "nbformat_minor": 5
}
